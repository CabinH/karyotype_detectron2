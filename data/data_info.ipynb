{
 "cells": [
  {
   "cell_type": "code",
   "execution_count": 9,
   "metadata": {},
   "outputs": [],
   "source": [
    "import os\n",
    "import glob"
   ]
  },
  {
   "cell_type": "code",
   "execution_count": 10,
   "metadata": {},
   "outputs": [],
   "source": [
    "root = '/data1/huangkaibin/Data/karyotype/origin/data'\n",
    "target = \"/data1/huangkaibin/Data/karyotype/spilt/\"\n",
    "# file_list = sorted(glob.glob(os.path.join(root, '*')))"
   ]
  },
  {
   "cell_type": "code",
   "execution_count": 11,
   "metadata": {},
   "outputs": [],
   "source": [
    "patient_info, patient_imgs, img_a, img_k = [], [], [], []\n",
    "\n",
    "for name in os.listdir(root):\n",
    "    if \"A.TIF\" in name:\n",
    "        img_a.append(name)\n",
    "    elif \"K.TIF\" in name:\n",
    "        img_k.append(name)\n",
    "    else:\n",
    "        patient_info.append(name)\n",
    "        \n",
    "img_a.sort()\n",
    "img_k.sort()"
   ]
  },
  {
   "cell_type": "code",
   "execution_count": 12,
   "metadata": {},
   "outputs": [],
   "source": [
    "for name in img_a:\n",
    "    os.system(\"cp {} {}\".format(os.path.join(root, name), os.path.join(target, 'a', name)))"
   ]
  },
  {
   "cell_type": "code",
   "execution_count": 27,
   "metadata": {},
   "outputs": [],
   "source": [
    "for name in img_k:\n",
    "    os.system(\"cp {} {}\".format(os.path.join(root, name), os.path.join(target, 'k', name)))"
   ]
  },
  {
   "cell_type": "code",
   "execution_count": 13,
   "metadata": {},
   "outputs": [
    {
     "name": "stdout",
     "output_type": "stream",
     "text": [
      "2475 2463\n"
     ]
    }
   ],
   "source": [
    "print(len(img_a), len(img_k))"
   ]
  },
  {
   "cell_type": "code",
   "execution_count": 14,
   "metadata": {},
   "outputs": [],
   "source": [
    "# check pair\n",
    "for na in img_a:\n",
    "    nk = na.replace(\"A.TIF\", \"K.TIF\")\n",
    "    if not nk in img_k:\n",
    "        os.system(\"rm {}\".format(os.path.join(target, 'a', na)))"
   ]
  },
  {
   "cell_type": "code",
   "execution_count": 21,
   "metadata": {},
   "outputs": [
    {
     "name": "stdout",
     "output_type": "stream",
     "text": [
      "number of image pair A: 2463 / K: 2463\n",
      "number of patient: 93\n"
     ]
    }
   ],
   "source": [
    "# info show\n",
    "\n",
    "# num of image\n",
    "img_a = sorted(list(os.listdir(os.path.join(target, 'a'))))\n",
    "img_k = sorted(list(os.listdir(os.path.join(target, 'k'))))\n",
    "print(f\"number of image pair A: {len(img_a)} / K: {len(img_k)}\")\n",
    "\n",
    "# num of patient\n",
    "p_ids = set([name[:5] for name in img_a])\n",
    "print(f\"number of patient: {len(p_ids)}\")"
   ]
  }
 ],
 "metadata": {
  "kernelspec": {
   "display_name": "Python 3",
   "language": "python",
   "name": "python3"
  },
  "language_info": {
   "codemirror_mode": {
    "name": "ipython",
    "version": 3
   },
   "file_extension": ".py",
   "mimetype": "text/x-python",
   "name": "python",
   "nbconvert_exporter": "python",
   "pygments_lexer": "ipython3",
   "version": "3.8.3"
  }
 },
 "nbformat": 4,
 "nbformat_minor": 4
}
